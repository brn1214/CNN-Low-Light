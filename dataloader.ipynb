{
 "cells": [
  {
   "cell_type": "code",
   "execution_count": 2,
   "id": "3e801e18",
   "metadata": {},
   "outputs": [],
   "source": [
    "import torch\n",
    "import torch.utils.data as data\n",
    "\n",
    "import numpy as np\n",
    "from PIL import Image\n",
    "import glob\n",
    "import random\n",
    "\n",
    "random.seed(1143)\n",
    "\n",
    "def populate_train_list(lowlight_images_path):\n",
    "\n",
    "    image_list_lowlight = glob.glob(lowlight_images_path + \"*.jpg\")\n",
    "\n",
    "    train_list = image_list_lowlight\n",
    "\n",
    "    random.shuffle(train_list)\n",
    "    \n",
    "    return train_list\n",
    "\n",
    "\n",
    "class lowlight_loader(data.Dataset):\n",
    "\n",
    "    def __init__(self, lowlight_images_path):\n",
    "\n",
    "        self.train_list = populate_train_list(lowlight_images_path) \n",
    "        self.size = 256\n",
    "\n",
    "        self.data_list = self.train_list\n",
    "        print(\"Total training examples:\", len(self.train_list))\n",
    "\n",
    "    def __getitem__(self, index):\n",
    "\n",
    "        data_lowlight_path = self.data_list[index]\n",
    "\n",
    "        data_lowlight = Image.open(data_lowlight_path)\n",
    "\n",
    "        data_lowlight = data_lowlight.resize((self.size,self.size), Image.Resampling.LANCZOS)\n",
    "\n",
    "        data_lowlight = (np.asarray(data_lowlight)/255.0) \n",
    "        data_lowlight = torch.from_numpy(data_lowlight).float()\n",
    "\n",
    "        return data_lowlight.permute(2,0,1)\n",
    "\n",
    "    def __len__(self):\n",
    "        return len(self.data_list)"
   ]
  },
  {
   "cell_type": "code",
   "execution_count": null,
   "id": "afefc943",
   "metadata": {},
   "outputs": [],
   "source": []
  }
 ],
 "metadata": {
  "kernelspec": {
   "display_name": "Python 3 (ipykernel)",
   "language": "python",
   "name": "python3"
  },
  "language_info": {
   "codemirror_mode": {
    "name": "ipython",
    "version": 3
   },
   "file_extension": ".py",
   "mimetype": "text/x-python",
   "name": "python",
   "nbconvert_exporter": "python",
   "pygments_lexer": "ipython3",
   "version": "3.11.4"
  }
 },
 "nbformat": 4,
 "nbformat_minor": 5
}
