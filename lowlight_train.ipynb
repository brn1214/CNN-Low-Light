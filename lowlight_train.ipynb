{
  "cells": [
    {
      "cell_type": "markdown",
      "metadata": {
        "id": "view-in-github",
        "colab_type": "text"
      },
      "source": [
        "<a href=\"https://colab.research.google.com/github/brn1214/CNN-Low-Light/blob/main/lowlight_train.ipynb\" target=\"_parent\"><img src=\"https://colab.research.google.com/assets/colab-badge.svg\" alt=\"Open In Colab\"/></a>"
      ]
    },
    {
      "cell_type": "code",
      "execution_count": null,
      "id": "45f2a018",
      "metadata": {
        "scrolled": true,
        "id": "45f2a018"
      },
      "outputs": [],
      "source": [
        "import torch\n",
        "\n",
        "\n",
        "# Detectar si CUDA está disponible, de lo contrario usar CPU\n",
        "device = torch.device(\"cuda\" if torch.cuda.is_available() else \"cpu\")\n",
        "\n",
        "print(f\"Usando el dispositivo: {device}\")"
      ]
    },
    {
      "cell_type": "code",
      "source": [
        "from google.colab import drive\n",
        "drive.mount('/content/drive')"
      ],
      "metadata": {
        "id": "z3WRADJpU1xn"
      },
      "id": "z3WRADJpU1xn",
      "execution_count": null,
      "outputs": []
    },
    {
      "cell_type": "code",
      "execution_count": 2,
      "id": "2cca806f",
      "metadata": {
        "id": "2cca806f"
      },
      "outputs": [],
      "source": [
        "import torch\n",
        "import torch.utils.data as data\n",
        "import torch.nn as nn\n",
        "import torch.nn.functional as F\n",
        "import numpy as np\n",
        "from PIL import Image\n",
        "import glob\n",
        "import random\n",
        "import math\n",
        "import torch.optim\n",
        "import os\n",
        "import argparse\n",
        "\n",
        "import matplotlib.pyplot as plt"
      ]
    },
    {
      "cell_type": "markdown",
      "id": "f17cc416",
      "metadata": {
        "id": "f17cc416"
      },
      "source": [
        " # Convertir imagenes"
      ]
    },
    {
      "cell_type": "markdown",
      "id": "ad39d076",
      "metadata": {
        "id": "ad39d076"
      },
      "source": [
        "## RGB -> YIQ"
      ]
    },
    {
      "cell_type": "code",
      "execution_count": null,
      "id": "55060799",
      "metadata": {
        "id": "55060799"
      },
      "outputs": [],
      "source": [
        "import numpy as np\n",
        "\n",
        "def rgb_to_yiq(rgb):\n",
        "    # Asume que rgb es un tensor de PyTorch con dimensiones [batch_size, 3, height, width]\n",
        "    r, g, b = rgb[:, 0, :, :], rgb[:, 1, :, :], rgb[:, 2, :, :]\n",
        "    y = 0.299 * r + 0.587 * g + 0.114 * b\n",
        "    i = 0.596 * r - 0.274 * g - 0.322 * b\n",
        "    q = 0.211 * r - 0.523 * g + 0.312 * b\n",
        "    return torch.stack([y, i, q], dim=1)\n",
        "\n",
        "\n",
        "def normalize(image, range=(0, 1)):\n",
        "\n",
        "    # Calcula los valores mínimos y máximos globales en todo el tensor\n",
        "    min_val = torch.min(image)\n",
        "    max_val = torch.max(image)\n",
        "\n",
        "    # Normaliza el tensor\n",
        "    normalized = (image - min_val) / (max_val - min_val) * (range[1] - range[0]) + range[0]\n",
        "\n",
        "    return normalized\n"
      ]
    },
    {
      "cell_type": "markdown",
      "id": "12466cc8",
      "metadata": {
        "id": "12466cc8"
      },
      "source": [
        "## YIQ -> RGB"
      ]
    },
    {
      "cell_type": "code",
      "execution_count": null,
      "id": "486cd2d6",
      "metadata": {
        "id": "486cd2d6"
      },
      "outputs": [],
      "source": [
        "def yiq_to_rgb(yiq):\n",
        "    y = yiq[:, 0:1, :, :]\n",
        "    i = yiq[:, 1:2, :, :]\n",
        "    q = yiq[:, 2:3, :, :]\n",
        "\n",
        "    r = y + 0.956*i + 0.621*q\n",
        "    g = y - 0.272*i - 0.647*q\n",
        "    b = y - 1.106*i + 1.703*q\n",
        "\n",
        "    rgb = torch.cat((r, g, b), dim=1)\n",
        "    return rgb\n"
      ]
    },
    {
      "cell_type": "markdown",
      "id": "427f3e0c",
      "metadata": {
        "id": "427f3e0c"
      },
      "source": [
        "## Curva S"
      ]
    },
    {
      "cell_type": "code",
      "execution_count": 3,
      "id": "36a570fd",
      "metadata": {
        "colab": {
          "base_uri": "https://localhost:8080/",
          "height": 472
        },
        "id": "36a570fd",
        "outputId": "c6a8d593-e7bf-404c-f0cf-a4991ec90208"
      },
      "outputs": [
        {
          "output_type": "display_data",
          "data": {
            "text/plain": [
              "<Figure size 640x480 with 1 Axes>"
            ],
            "image/png": "[encoded data removed]"
          },
          "metadata": {}
        }
      ],
      "source": [
        "def apply_s_curve(luminance, phi_s, phi_h, k1=5, k2=14, k3=1.6):\n",
        "\n",
        "    x = luminance\n",
        "    x_1 = 1 - x\n",
        "\n",
        "    f_x = k1 * x * torch.exp(-k2 * x**k3)\n",
        "    f_x_1 = k1 * (x_1) * torch.exp(-k2 * (x_1)**k3)\n",
        "\n",
        "    adjusted_luminance = x + phi_s * f_x - phi_h * f_x_1 #f_x.flip(dims=[-1])\n",
        "\n",
        "    return adjusted_luminance\n",
        "\n",
        "# Define la función ajustada según los parámetros proporcionados\n",
        "def funcion_ejemplo(x, phi_s=0.5, phi_h=0.5, k1=5, k2=14, k3=1.6):\n",
        "    x_1 = 1 - x\n",
        "    f_x = k1 * x * np.exp(-k2 * x**k3)\n",
        "    f_x_1 = k1 * x_1 * np.exp(-k2 * x_1**k3)\n",
        "    adjusted_luminance = x + phi_s * f_x - phi_h * f_x_1\n",
        "    return adjusted_luminance\n",
        "\n",
        "def funcion_fx(x, phi_s=0.5, phi_h=0.5, k1=5, k2=14, k3=1.6):\n",
        "\n",
        "    f_x = k1 * x * np.exp(-k2 * x**k3)\n",
        "\n",
        "    return f_x\n",
        "\n",
        "# Genera un conjunto de valores de x entre 0 y 1.\n",
        "x_valores = np.linspace(0, 1, 100)  # 100 puntos entre 0 y 1.\n",
        "\n",
        "# Calcula los valores de y usando la función definida.\n",
        "y_valores = funcion_ejemplo(x_valores)\n",
        "\n",
        "# Calcula los valores de y usando la función definida.\n",
        "fx_valores = funcion_fx(x_valores)\n",
        "\n",
        "# Crea el gráfico para la función ajustada\n",
        "plt.plot(x_valores, y_valores, label='S-Curve')\n",
        "\n",
        "# Grafica y=x con una línea rayada y delgada\n",
        "plt.plot(x_valores, x_valores, '--', label='y=x', linewidth=1)\n",
        "\n",
        "# Grafica dfx con una línea rayada y delgada\n",
        "#plt.plot(x_valores, fx_valores, '--', label='dF(x)', linewidth=1)\n",
        "\n",
        "# Añade títulos y etiquetas.\n",
        "plt.title('S-Curve with φs=0.5 and φh=0.5')\n",
        "plt.xlabel('x')\n",
        "plt.ylabel('f(x)')\n",
        "plt.legend()\n",
        "\n",
        "# Muestra el gráfico.\n",
        "plt.show()"
      ]
    },
    {
      "cell_type": "markdown",
      "id": "b2514dd3",
      "metadata": {
        "id": "b2514dd3"
      },
      "source": [
        "## Ajusta canales YIQ"
      ]
    },
    {
      "cell_type": "code",
      "execution_count": null,
      "id": "e48b56c6",
      "metadata": {
        "id": "e48b56c6"
      },
      "outputs": [],
      "source": [
        "import torch\n",
        "\n",
        "def adjust_iq_channels(yiq, luminance_adjusted):\n",
        "    \"\"\"\n",
        "    Ajusta los canales I y Q en el espacio de color YIQ basándose en la relación de cambio en la luminancia.\n",
        "\n",
        "    :param yiq: Tensor de PyTorch con la imagen original en espacio de color YIQ.\n",
        "               Formato esperado: [batch_size, 3, height, width]\n",
        "    :param luminance_adjusted: Tensor de PyTorch con el canal de luminancia (Y) ajustado.\n",
        "               Formato esperado: [batch_size, 1, height, width]\n",
        "    :return: Imagen en espacio de color YIQ con canales I y Q ajustados.\n",
        "    \"\"\"\n",
        "    # No es necesario usar squeeze que puede alterar la estructura esperada\n",
        "    y_original = yiq[:, 0:1, :, :]  # Extraer Y original\n",
        "    i = yiq[:, 1:2, :, :]  # Extraer I\n",
        "    q = yiq[:, 2:3, :, :]  # Extraer Q\n",
        "\n",
        "    a = luminance_adjusted/(y_original+0.0001)\n",
        "\n",
        "    # Ajustar canales I y Q\n",
        "    i_adjusted = i * a\n",
        "    q_adjusted = q * a\n",
        "\n",
        "    # Retornar el tensor con los canales ajustados\n",
        "    return torch.cat([luminance_adjusted, i_adjusted, q_adjusted], dim=1)\n",
        "\n"
      ]
    },
    {
      "cell_type": "markdown",
      "id": "ad5fb6f9",
      "metadata": {
        "id": "ad5fb6f9"
      },
      "source": [
        "# Dataloader\n",
        "\n",
        "Carga los datos"
      ]
    },
    {
      "cell_type": "code",
      "execution_count": null,
      "id": "854d50eb",
      "metadata": {
        "id": "854d50eb"
      },
      "outputs": [],
      "source": [
        "\n",
        "\n",
        "random.seed(1143)\n",
        "\n",
        "def populate_train_list(lowlight_images_path):\n",
        "\n",
        "    image_list_lowlight = glob.glob(lowlight_images_path + \"*.jpg\")\n",
        "\n",
        "    train_list = image_list_lowlight\n",
        "\n",
        "    random.shuffle(train_list)\n",
        "\n",
        "    return train_list\n",
        "\n",
        "\n",
        "class lowlight_loader(data.Dataset):\n",
        "\n",
        "    def __init__(self, lowlight_images_path):\n",
        "\n",
        "        self.train_list = populate_train_list(lowlight_images_path)\n",
        "        self.size = 256\n",
        "\n",
        "        self.data_list = self.train_list\n",
        "        print(\"Total training examples:\", len(self.train_list))\n",
        "\n",
        "    def __getitem__(self, index):\n",
        "\n",
        "        data_lowlight_path = self.data_list[index]\n",
        "\n",
        "        data_lowlight = Image.open(data_lowlight_path)\n",
        "\n",
        "        data_lowlight = data_lowlight.resize((self.size,self.size), Image.Resampling.LANCZOS)\n",
        "\n",
        "        data_lowlight = (np.asarray(data_lowlight)/255.0)\n",
        "        data_lowlight = torch.from_numpy(data_lowlight).float()\n",
        "\n",
        "        return data_lowlight.permute(2,0,1)\n",
        "\n",
        "    def __len__(self):\n",
        "        return len(self.data_list)"
      ]
    },
    {
      "cell_type": "markdown",
      "id": "251055d3",
      "metadata": {
        "id": "251055d3"
      },
      "source": [
        "# Pérdidas *Losses*"
      ]
    },
    {
      "cell_type": "markdown",
      "id": "8a8f03f5",
      "metadata": {
        "id": "8a8f03f5"
      },
      "source": [
        "## L_color"
      ]
    },
    {
      "cell_type": "code",
      "execution_count": null,
      "id": "0cb869e6",
      "metadata": {
        "id": "0cb869e6"
      },
      "outputs": [],
      "source": [
        "class L_color(nn.Module):\n",
        "\n",
        "    def __init__(self):\n",
        "        super(L_color, self).__init__()\n",
        "\n",
        "    def forward(self, x ):\n",
        "\n",
        "        b,c,h,w = x.shape\n",
        "\n",
        "        mean_rgb = torch.mean(x,[2,3],keepdim=True)\n",
        "        mr,mg, mb = torch.split(mean_rgb, 1, dim=1)\n",
        "        Drg = torch.pow(mr-mg,2)\n",
        "        Drb = torch.pow(mr-mb,2)\n",
        "        Dgb = torch.pow(mb-mg,2)\n",
        "\n",
        "        k = torch.pow(torch.pow(Drg,2) + torch.pow(Drb,2) + torch.pow(Dgb,2),0.5)\n",
        "        #k = Drg + Drb + Dgb\n",
        "\n",
        "        #k[torch.isnan(k)] = 0  # Reemplaza NaNs con 0\n",
        "        #k[torch.isinf(k)] = 0  # Reemplaza Infs con 0\n",
        "\n",
        "\n",
        "\n",
        "\n",
        "        return k\n",
        "\n",
        "x = torch.rand(8, 3, 512, 512)   # Values between -1 and 1\n",
        "l_col = L_color()\n",
        "\n",
        "# Apply the operation and print the result\n",
        "result = l_col(x)\n",
        "print(f\"Result: {result*5}\")\n",
        "\n"
      ]
    },
    {
      "cell_type": "markdown",
      "id": "1c77216f",
      "metadata": {
        "id": "1c77216f"
      },
      "source": [
        "## L_Spa"
      ]
    },
    {
      "cell_type": "code",
      "execution_count": null,
      "id": "b1c7fd8f",
      "metadata": {
        "id": "b1c7fd8f"
      },
      "outputs": [],
      "source": [
        "class L_spa(nn.Module):\n",
        "\n",
        "    def __init__(self):\n",
        "        super(L_spa, self).__init__()\n",
        "        # print(1)kernel = torch.FloatTensor(kernel).unsqueeze(0).unsqueeze(0)\n",
        "        kernel_left = torch.FloatTensor( [[0,0,0],[-1,1,0],[0,0,0]]).to(device).unsqueeze(0).unsqueeze(0)\n",
        "        kernel_right = torch.FloatTensor( [[0,0,0],[0,1,-1],[0,0,0]]).to(device).unsqueeze(0).unsqueeze(0)\n",
        "        kernel_up = torch.FloatTensor( [[0,-1,0],[0,1, 0 ],[0,0,0]]).to(device).unsqueeze(0).unsqueeze(0)\n",
        "        kernel_down = torch.FloatTensor( [[0,0,0],[0,1, 0],[0,-1,0]]).to(device).unsqueeze(0).unsqueeze(0)\n",
        "        self.weight_left = nn.Parameter(data=kernel_left, requires_grad=False)\n",
        "        self.weight_right = nn.Parameter(data=kernel_right, requires_grad=False)\n",
        "        self.weight_up = nn.Parameter(data=kernel_up, requires_grad=False)\n",
        "        self.weight_down = nn.Parameter(data=kernel_down, requires_grad=False)\n",
        "        self.pool = nn.AvgPool2d(4)\n",
        "\n",
        "    def forward(self, org , enhance ):\n",
        "\n",
        "        b,c,h,w = org.shape\n",
        "\n",
        "        org_mean = torch.mean(org,1,keepdim=True)\n",
        "        enhance_mean = torch.mean(enhance,1,keepdim=True)\n",
        "\n",
        "        org_pool =  self.pool(org_mean)\n",
        "        enhance_pool = self.pool(enhance_mean)\n",
        "\n",
        "        D_org_left = F.conv2d(org_pool , self.weight_left, padding=1)\n",
        "        D_org_right = F.conv2d(org_pool , self.weight_right, padding=1)\n",
        "        D_org_up = F.conv2d(org_pool , self.weight_up, padding=1)\n",
        "        D_org_down = F.conv2d(org_pool , self.weight_down, padding=1)\n",
        "\n",
        "        D_enhance_letf = F.conv2d(enhance_pool , self.weight_left, padding=1)\n",
        "        D_enhance_right = F.conv2d(enhance_pool , self.weight_right, padding=1)\n",
        "        D_enhance_up = F.conv2d(enhance_pool , self.weight_up, padding=1)\n",
        "        D_enhance_down = F.conv2d(enhance_pool , self.weight_down, padding=1)\n",
        "\n",
        "        D1_left = org_pool - D_org_left\n",
        "        D1_right = org_pool - D_org_right\n",
        "        D1_up = org_pool - D_org_up\n",
        "        D1_down = org_pool - D_org_down\n",
        "\n",
        "        D2_left = enhance_pool - D_enhance_letf\n",
        "        D2_right = enhance_pool - D_enhance_right\n",
        "        D2_up = enhance_pool - D_enhance_up\n",
        "        D2_down = enhance_pool - D_enhance_down\n",
        "\n",
        "        D_left = torch.pow(torch.abs(D1_left) - torch.abs(D2_left),2)\n",
        "        D_right = torch.pow(torch.abs(D1_right) - torch.abs(D2_right),2)\n",
        "        D_up = torch.pow(torch.abs(D1_up) - torch.abs(D2_up),2)\n",
        "        D_down = torch.pow(torch.abs(D1_down) - torch.abs(D2_down),2)\n",
        "\n",
        "        E = (D_left + D_right + D_up +D_down)\n",
        "\n",
        "        #E[torch.isnan(E)] = 0  # Reemplaza NaNs con 0\n",
        "        #E[torch.isinf(E)] = 0  # Reemplaza Infs con 0\n",
        "\n",
        "        E_s = torch.mean(E)\n",
        "\n",
        "        return E_s\n",
        "\n",
        "x = torch.rand(8, 3, 256, 256).to(device)   # Values between -1 and 1\n",
        "x_hat = torch.rand(8, 3, 256, 256).to(device)\n",
        "\n",
        "# Initialize the L_exp class\n",
        "l_spa = L_spa()\n",
        "\n",
        "\n",
        "# Apply the operation and print the result\n",
        "result = l_spa(x, x_hat)\n",
        "print(f\"Result: {result}\")"
      ]
    },
    {
      "cell_type": "markdown",
      "id": "feffbd94",
      "metadata": {
        "id": "feffbd94"
      },
      "source": [
        "## L_exp"
      ]
    },
    {
      "cell_type": "code",
      "execution_count": null,
      "id": "b9ba2a02",
      "metadata": {
        "id": "b9ba2a02"
      },
      "outputs": [],
      "source": [
        "class L_exp(nn.Module):\n",
        "\n",
        "    def __init__(self,patch_size=16,mean_val=0.5):\n",
        "        super(L_exp, self).__init__()\n",
        "        # print(1)\n",
        "        self.pool = nn.AvgPool2d(patch_size)\n",
        "        self.mean_val = mean_val\n",
        "\n",
        "    def forward(self, x, x_hat ):\n",
        "\n",
        "        b,c,h,w = x.shape\n",
        "        x = torch.mean(x,1,keepdim=True)\n",
        "        x_hat = torch.mean(x_hat,1,keepdim=True)\n",
        "\n",
        "        mean = self.pool(x)\n",
        "        mean_hat = self.pool(x_hat)\n",
        "\n",
        "        subs = mean_hat - mean\n",
        "\n",
        "        d = torch.mean(torch.pow(torch.sign(mean_hat - torch.FloatTensor([self.mean_val]).to(device))*subs ,2))\n",
        "        #print(mean)\n",
        "        #print(subs)\n",
        "        #print(torch.sign(mean_hat - torch.FloatTensor([self.mean_val]))*subs )\n",
        "        return d"
      ]
    },
    {
      "cell_type": "markdown",
      "id": "3e5c9023",
      "metadata": {
        "id": "3e5c9023"
      },
      "source": [
        "## L_TV"
      ]
    },
    {
      "cell_type": "code",
      "execution_count": null,
      "id": "28d0131b",
      "metadata": {
        "id": "28d0131b"
      },
      "outputs": [],
      "source": [
        "class L_TV(nn.Module):\n",
        "    def __init__(self,TVLoss_weight=1):\n",
        "        super(L_TV,self).__init__()\n",
        "        self.TVLoss_weight = TVLoss_weight\n",
        "\n",
        "    def forward(self,x):\n",
        "        batch_size = x.size()[0]\n",
        "        h_x = x.size()[2]\n",
        "        w_x = x.size()[3]\n",
        "        count_h =  (x.size()[2]-1) * x.size()[3]\n",
        "        count_w = x.size()[2] * (x.size()[3] - 1)\n",
        "\n",
        "        h_tv = torch.pow((x[:,:,1:,:]-x[:,:,:h_x-1,:]),2).sum()\n",
        "        w_tv = torch.pow((x[:,:,:,1:]-x[:,:,:,:w_x-1]),2).sum()\n",
        "\n",
        "        return self.TVLoss_weight*2*(h_tv/count_h+w_tv/count_w)/batch_size\n",
        "\n",
        "\n",
        "\n",
        "\n",
        "\n",
        "x = torch.rand(8, 3, 256, 256).to(device)   # Values between -1 and 1\n",
        "x_hat = torch.rand(8, 3, 256, 256).to(device)\n",
        "\n",
        "# Initialize the L_exp class\n",
        "l_spa = L_TV()\n",
        "\n",
        "\n",
        "# Apply the operation and print the result\n",
        "result = l_spa(x)\n",
        "print(f\"Result: {result}\")\n",
        "\n"
      ]
    },
    {
      "cell_type": "markdown",
      "id": "2b1f8673",
      "metadata": {
        "id": "2b1f8673"
      },
      "source": [
        "# Model\n",
        "\n",
        "Aqui se entrena el modelo"
      ]
    },
    {
      "cell_type": "markdown",
      "id": "de97e76e",
      "metadata": {
        "id": "de97e76e"
      },
      "source": [
        "## Definicion de los modulos"
      ]
    },
    {
      "cell_type": "code",
      "execution_count": null,
      "id": "f024fe92",
      "metadata": {
        "id": "f024fe92"
      },
      "outputs": [],
      "source": [
        "class Conv(nn.Module):\n",
        "    def __init__(self, in_channels, out_channels):\n",
        "        super().__init__()\n",
        "        self.conv_op = nn.Sequential(\n",
        "            nn.Conv2d(in_channels,out_channels,3,1,1,bias=True),\n",
        "            nn.ReLU(inplace=True),\n",
        "        )\n",
        "\n",
        "    def forward(self, x):\n",
        "        return self.conv_op(x)\n",
        "\n",
        "\n",
        "class DownSample(nn.Module):\n",
        "    def __init__(self, in_channels, out_channels):\n",
        "        super().__init__()\n",
        "        self.conv = Conv(in_channels, out_channels)\n",
        "        self.pool = nn.MaxPool2d(kernel_size=2, stride=2, padding=0)\n",
        "\n",
        "    def forward(self, x):\n",
        "        down = self.conv(x)\n",
        "        p = self.pool(down)\n",
        "\n",
        "        return down, p\n",
        "\n",
        "\n",
        "class UpSample(nn.Module):\n",
        "    def __init__(self, in_channels, out_channels):\n",
        "        super().__init__()\n",
        "        self.conv = Conv(in_channels, out_channels)\n",
        "        self.up = nn.ConvTranspose2d(out_channels, out_channels, kernel_size=4, stride=2, padding=1)\n",
        "\n",
        "\n",
        "    def forward(self, x1, x2):\n",
        "        x_1 = self.conv(x1)\n",
        "        x_1a = self.up(x_1)\n",
        "        x = torch.cat([x_1a, x2], 1)\n",
        "\n",
        "        return x\n",
        "\n"
      ]
    },
    {
      "cell_type": "markdown",
      "id": "8a1bb099",
      "metadata": {
        "id": "8a1bb099"
      },
      "source": [
        "## Modelo *UDNeT*"
      ]
    },
    {
      "cell_type": "code",
      "execution_count": null,
      "id": "7f91ba94",
      "metadata": {
        "id": "7f91ba94"
      },
      "outputs": [],
      "source": [
        "class UNet(nn.Module):\n",
        "    def __init__(self, in_channels, num_classes):\n",
        "        super().__init__()\n",
        "\n",
        "        self.conv_in = Conv(in_channels, 64)\n",
        "\n",
        "        self.down_convolution_1 = DownSample(64, 128)\n",
        "        self.down_convolution_2 = DownSample(128, 256)\n",
        "\n",
        "        self.bottle_neck = Conv(256, 256)\n",
        "        self.bottle_neck1 = Conv(256, 256)\n",
        "\n",
        "        self.up_convolution_1 = UpSample(256+256, 128)\n",
        "        self.up_convolution_2 = UpSample(128+128, 64)\n",
        "\n",
        "        #self.conv_out = Conv(64, 2)\n",
        "\n",
        "        self.out = nn.Sequential(\n",
        "            nn.Conv2d(64+64, out_channels=num_classes, kernel_size=1),\n",
        "            nn.Sigmoid()\n",
        "        )\n",
        "\n",
        "\n",
        "\n",
        "    def forward(self, x):\n",
        "\n",
        "        x1 = self.conv_in(x)\n",
        "        #print(\"x1\")\n",
        "        #nando(x1)\n",
        "\n",
        "        c1, d1 = self.down_convolution_1(x1)\n",
        "        #print(\"p1 \", {p1.shape})\n",
        "        c2, d2 = self.down_convolution_2(d1)\n",
        "\n",
        "        #print(\"p2 \", {p2.shape})\n",
        "        b = self.bottle_neck(d2)\n",
        "        #print(\"b \", {b.shape})\n",
        "        b2 = self.bottle_neck1(b)\n",
        "\n",
        "        b_cat = torch.cat([b, d2], 1)\n",
        "\n",
        "\n",
        "        #print(\"b2 \", {b2.shape})\n",
        "\n",
        "        up_1 = self.up_convolution_1(b_cat, d1)\n",
        "        #print(\"up1 \", {up_1.shape})\n",
        "        up_2 = self.up_convolution_2(up_1, x1)\n",
        "        #print(\"up2 \", {up_2.shape})\n",
        "        logits = self.out(up_2)\n",
        "\n",
        "        #print(\"logits\")\n",
        "        #nando(logits)\n",
        "\n",
        "        # Dividir logits en phi_s y phi_h\n",
        "        phi_s = logits[:, 0:1, :, :]  # Primer canal para phi_s\n",
        "        phi_h = logits[:, 1:2, :, :]  # Segundo canal para phi_h\n",
        "\n",
        "        #img = apply_s_curve(x,phi_s, phi_h )\n",
        "\n",
        "\n",
        "        return phi_s, phi_h\n",
        "\"\"\"\n",
        "# Si inicializas la red así:\n",
        "unet = UNet(in_channels=1, num_classes=2)  # Suponiendo que el canal de luminancia es la única entrada\n",
        "x = torch.rand(8, 1, 280, 256)   # Values between -1 and 1\n",
        "\n",
        "\n",
        "\n",
        "# Apply the operation and print the result\n",
        "s, h = unet(batch_tensor_img)\n",
        "\n",
        "print(s.shape)\n",
        "print(h.shape)\n",
        "\n",
        "t = apply_s_curve(batch_tensor_img, s, h)\n",
        "print(t.shape)\n",
        "\n",
        "verimg(batch_tensor_img[1])\n",
        "verimg(t[1])\n",
        "\"\"\""
      ]
    },
    {
      "cell_type": "code",
      "execution_count": null,
      "id": "b061f7b3",
      "metadata": {
        "id": "b061f7b3"
      },
      "outputs": [],
      "source": [
        "lambda_e=10\n",
        "lambda_t=200\n",
        "lambda_s=1\n",
        "lambda_c=5\n",
        "\n",
        "ruta = '/content/drive/MyDrive/tesis/'"
      ]
    },
    {
      "cell_type": "code",
      "execution_count": null,
      "id": "49bd9d83",
      "metadata": {
        "id": "49bd9d83"
      },
      "outputs": [],
      "source": [
        "def initialize_weights(m):\n",
        "    if isinstance(m, nn.Conv2d):\n",
        "        torch.nn.init.xavier_uniform_(m.weight)\n",
        "        if m.bias is not None:\n",
        "            torch.nn.init.constant_(m.bias, 0.2)\n",
        "    elif isinstance(m, nn.BatchNorm2d):\n",
        "        torch.nn.init.constant_(m.weight, 1)\n",
        "        torch.nn.init.constant_(m.bias, 0)\n",
        "    elif isinstance(m, nn.Linear):\n",
        "        torch.nn.init.xavier_uniform_(m.weight)\n",
        "        torch.nn.init.constant_(m.bias, 0)\n"
      ]
    },
    {
      "cell_type": "code",
      "execution_count": null,
      "id": "badd83f1",
      "metadata": {
        "id": "badd83f1"
      },
      "outputs": [],
      "source": [
        "def train(config):\n",
        "\n",
        "    UNet_net = UNet(in_channels=1, num_classes=2).to(device)\n",
        "\n",
        "    UNet_net.apply(initialize_weights)\n",
        "\n",
        "    #UNet_net.apply(weights_init)\n",
        "\n",
        "\n",
        "\n",
        "\n",
        "\n",
        "    if config.load_pretrain == True:\n",
        "        #UNet_net.load_state_dict(torch.load(config.pretrain_dir))\n",
        "        model_state = torch.load(config.pretrain_dir, map_location=torch.device('cpu'))\n",
        "        UNet_net.load_state_dict(model_state)\n",
        "        print(\"Cargó el peso correctamente en CPU.\")\n",
        "        print(\"carga el peso\")\n",
        "\n",
        "    train_dataset = lowlight_loader(config.lowlight_images_path)\n",
        "\n",
        "    train_loader = torch.utils.data.DataLoader(train_dataset, batch_size=config.train_batch_size, shuffle=True, num_workers=config.num_workers, pin_memory=True)\n",
        "\n",
        "\n",
        "    l_color = L_color()\n",
        "    l_spa = L_spa()\n",
        "\n",
        "    l_exp = L_exp(16,0.5)\n",
        "    l_TV = L_TV()\n",
        "    loss = 0\n",
        "\n",
        "    optimizer = torch.optim.Adam(UNet_net.parameters(), lr=config.lr, weight_decay=config.weight_decay)\n",
        "\n",
        "    UNet_net.train()\n",
        "\n",
        "\n",
        "\n",
        "    for epoch in range(config.num_epochs):\n",
        "        print(f\"EPOCA +++++++ {epoch} ++++++++++\")\n",
        "\n",
        "        for iteration, img_lowlight in enumerate(train_loader):\n",
        "\n",
        "\n",
        "\n",
        "\n",
        "\n",
        "            img_lowlight = img_lowlight.to(device)\n",
        "\n",
        "            image_yiq = rgb_to_yiq(img_lowlight)\n",
        "\n",
        "\n",
        "            image_yiq1 = normalize(image_yiq, range=(0, 1))\n",
        "\n",
        "            image_y = image_yiq1[:, 0:1, :, :]   # Extraer el canal Y\n",
        "\n",
        "\n",
        "            #verimg(img_lowlight[0])        image_rgb = yiq_to_rgb(image_yiq)\n",
        "\n",
        "            phi_s, phi_h  = UNet_net(image_y)\n",
        "\n",
        "\n",
        "            image_y_adjusted = apply_s_curve(image_y,phi_s, phi_h )\n",
        "\n",
        "\n",
        "            adjusted_yiq = adjust_iq_channels(image_yiq, image_y_adjusted)\n",
        "\n",
        "\n",
        "            adjusted_rgb = yiq_to_rgb(adjusted_yiq)\n",
        "\n",
        "\n",
        "\n",
        "\n",
        "\n",
        "            Loss_TV = torch.mean(l_TV(image_y_adjusted))\n",
        "            loss_spa = torch.mean(l_spa(img_lowlight, adjusted_rgb))\n",
        "            loss_col = torch.mean(l_color(adjusted_rgb))\n",
        "            loss_exp = torch.mean(l_exp(image_y, image_y_adjusted))\n",
        "\n",
        "\n",
        "            # best_loss\n",
        "            loss =  Loss_TV*lambda_t + loss_spa*lambda_s + loss_col*lambda_c + loss_exp*lambda_e\n",
        "\n",
        "            if ((iteration+1) % 5) == 0:\n",
        "                print(f\"iteracion {iteration}: --> {loss.item()}\")\n",
        "\n",
        "\n",
        "\n",
        "\n",
        "            optimizer.zero_grad()\n",
        "            loss.backward()\n",
        "            torch.nn.utils.clip_grad_norm_(UNet_net.parameters(),config.grad_clip_norm)\n",
        "            optimizer.step()\n",
        "            '''\n",
        "            for name, param in UNet_net.named_parameters():\n",
        "                if param.requires_grad:\n",
        "                    print(f\"{name} - mean: {param.data.mean()}, max: {param.data.max()}, min: {param.data.min()}\")\n",
        "\n",
        "            '''\n",
        "\n",
        "            if ((iteration+1) % config.display_iter) == 0:\n",
        "                print(\"Loss at iteration\", iteration+1, \":\", loss.item())\n",
        "                verimg2(img_lowlight[2],adjusted_rgb[2])\n",
        "\n",
        "            if ((iteration+1) % config.snapshot_iter) == 0:\n",
        "\n",
        "                torch.save(UNet_net.state_dict(), config.snapshots_folder + \"Epoch\" + str(epoch) + '.pth')\n",
        "\n",
        "\n",
        "if __name__ == \"__main__\":\n",
        "\n",
        "    parser = argparse.ArgumentParser()\n",
        "\n",
        "    # Input Parameters\n",
        "    parser.add_argument('--lowlight_images_path', type=str, default=ruta+\"data/train_data/\")\n",
        "    parser.add_argument('--lr', type=float, default=0.0001)\n",
        "    parser.add_argument('--weight_decay', type=float, default=0.0001)\n",
        "    parser.add_argument('--grad_clip_norm', type=float, default=0.1)\n",
        "    parser.add_argument('--num_epochs', type=int, default=200)\n",
        "    parser.add_argument('--train_batch_size', type=int, default=8)\n",
        "    parser.add_argument('--val_batch_size', type=int, default=4)\n",
        "    parser.add_argument('--num_workers', type=int, default=0)\n",
        "    parser.add_argument('--display_iter', type=int, default=50)\n",
        "    parser.add_argument('--snapshot_iter', type=int, default=10)\n",
        "    parser.add_argument('--snapshots_folder', type=str, default=ruta+\"snapshots/\")\n",
        "    parser.add_argument('--load_pretrain', type=bool, default= True)\n",
        "    parser.add_argument('--pretrain_dir', type=str, default= ruta+\"snapshots/Epoch9.pth\")\n",
        "\n",
        "    config, unknown = parser.parse_known_args()\n",
        "\n",
        "\n",
        "    if not os.path.exists(config.snapshots_folder):\n",
        "        os.mkdir(config.snapshots_folder)\n",
        "\n",
        "    train(config)\n",
        "\n",
        "\n",
        "\n",
        "\n",
        "\n"
      ]
    },
    {
      "cell_type": "code",
      "execution_count": null,
      "id": "f05bd49c",
      "metadata": {
        "id": "f05bd49c"
      },
      "outputs": [],
      "source": []
    },
    {
      "cell_type": "code",
      "execution_count": null,
      "id": "4b9b3a58",
      "metadata": {
        "id": "4b9b3a58"
      },
      "outputs": [],
      "source": [
        "def verimg(img):\n",
        "    # Asegúrate de que el tensor esté en CPU y en el formato adecuado\n",
        "    img = img.detach().cpu().numpy()\n",
        "\n",
        "    # Transponer el tensor de [3, 256, 256] a [256, 256, 3] para visualización\n",
        "    # Cambiamos el orden de los ejes para que sea (altura, anchura, canales)\n",
        "    img = img.transpose((1, 2, 0))\n",
        "\n",
        "    # Configurar el tamaño de la figura para una buena visualización\n",
        "    plt.figure(figsize=(6, 6))  # Tamaño suficiente para una sola imagen\n",
        "\n",
        "    # Mostrar la imagen\n",
        "    plt.imshow(img)\n",
        "    plt.axis('off')  # Ocultar los ejes\n",
        "\n",
        "    plt.show()\n"
      ]
    },
    {
      "cell_type": "code",
      "execution_count": null,
      "id": "6bddd6d4",
      "metadata": {
        "id": "6bddd6d4"
      },
      "outputs": [],
      "source": [
        "def verimg2(img1, img2):\n",
        "    # Configurar el tamaño de la figura para una buena visualización\n",
        "    plt.figure(figsize=(12, 6))  # Aumentar el ancho para acomodar dos imágenes\n",
        "\n",
        "    # Preparar la primera imagen\n",
        "    img1 = img1.detach().cpu().numpy()  # Asegúrate de que el tensor esté en CPU y en el formato adecuado\n",
        "    img1 = img1.transpose((1, 2, 0))  # Cambiamos el orden de los ejes para que sea (altura, anchura, canales)\n",
        "\n",
        "    # Mostrar la primera imagen\n",
        "    ax1 = plt.subplot(1, 2, 1)  # 1 fila, 2 columnas, índice de imagen 1\n",
        "    ax1.imshow(img1)\n",
        "    ax1.axis('off')  # Ocultar los ejes\n",
        "\n",
        "    # Preparar la segunda imagen\n",
        "    img2 = img2.detach().cpu().numpy()  # Repetir el proceso para la segunda imagen\n",
        "    img2 = img2.transpose((1, 2, 0))\n",
        "\n",
        "    # Mostrar la segunda imagen\n",
        "    ax2 = plt.subplot(1, 2, 2)  # 1 fila, 2 columnas, índice de imagen 2\n",
        "    ax2.imshow(img2)\n",
        "    ax2.axis('off')  # Ocultar los ejes\n",
        "\n",
        "    plt.show()"
      ]
    },
    {
      "cell_type": "code",
      "execution_count": null,
      "id": "7f9cde1a",
      "metadata": {
        "id": "7f9cde1a"
      },
      "outputs": [],
      "source": [
        "import torch\n",
        "from PIL import Image\n",
        "from torchvision import transforms\n",
        "\n",
        "# Define las transformaciones necesarias para convertir la imagen\n",
        "transform = transforms.Compose([\n",
        "    transforms.Grayscale(num_output_channels=1),  # Convierte a escala de grises si es necesario\n",
        "    transforms.Resize((280, 256)),  # Cambia el tamaño de la imagen a las dimensiones deseadas\n",
        "    transforms.ToTensor(),  # Convierte la imagen a un tensor y escala a [0, 1]\n",
        "])\n",
        "\n",
        "# Cargar la imagen usando PIL\n",
        "img = Image.open('img4.jpg')\n",
        "\n",
        "# Aplicar las transformaciones\n",
        "tensor_img = transform(img)\n",
        "\n",
        "verimg(tensor_img)\n",
        "\n",
        "# Verificar la forma del tensor y los valores\n",
        "print(tensor_img.shape)  # Debería mostrar torch.Size([1, 280, 256])\n",
        "print(\"Valores mínimos y máximos:\", tensor_img.min().item(), tensor_img.max().item())\n",
        "\n",
        "# Si necesitas un batch de tamaño 8 con la misma imagen\n",
        "batch_tensor_img = tensor_img.unsqueeze(0).repeat(8, 1, 1, 1)  # Crea un batch repitiendo la imagen\n",
        "print(batch_tensor_img.shape)  # Debería ser torch.Size([8, 1, 280, 256])\n"
      ]
    },
    {
      "cell_type": "code",
      "execution_count": null,
      "id": "430b6db8",
      "metadata": {
        "id": "430b6db8"
      },
      "outputs": [],
      "source": [
        "def valores(tensor):\n",
        "    for i in range(tensor.size(0)):  # tensor.size(0) es el tamaño del batch, que es 8\n",
        "        print(f\"Imagen {i+1}:\")\n",
        "        # Iterar sobre cada canal\n",
        "        for j in range(tensor.size(1)):  # tensor.size(1) es el número de canales, que es 3\n",
        "            channel = tensor[i, j, :, :]  # Extraer el canal j de la imagen i\n",
        "            max_val = torch.max(channel).item()  # Valor máximo en el canal\n",
        "            min_val = torch.min(channel).item()  # Valor mínimo en el canal\n",
        "            print(f\"  Canal {j}: Máximo = {max_val}, Mínimo = {min_val}\")"
      ]
    },
    {
      "cell_type": "code",
      "execution_count": null,
      "id": "7705c2b9",
      "metadata": {
        "id": "7705c2b9"
      },
      "outputs": [],
      "source": []
    },
    {
      "cell_type": "code",
      "execution_count": null,
      "id": "3644855a",
      "metadata": {
        "id": "3644855a"
      },
      "outputs": [],
      "source": []
    },
    {
      "cell_type": "code",
      "execution_count": null,
      "id": "60a0ac94",
      "metadata": {
        "id": "60a0ac94"
      },
      "outputs": [],
      "source": []
    },
    {
      "cell_type": "code",
      "execution_count": null,
      "id": "24ece190",
      "metadata": {
        "id": "24ece190"
      },
      "outputs": [],
      "source": []
    },
    {
      "cell_type": "code",
      "execution_count": null,
      "id": "51bf6b86",
      "metadata": {
        "id": "51bf6b86"
      },
      "outputs": [],
      "source": []
    }
  ],
  "metadata": {
    "kernelspec": {
      "display_name": "Python 3",
      "name": "python3"
    },
    "language_info": {
      "codemirror_mode": {
        "name": "ipython",
        "version": 3
      },
      "file_extension": ".py",
      "mimetype": "text/x-python",
      "name": "python",
      "nbconvert_exporter": "python",
      "pygments_lexer": "ipython3",
      "version": "3.11.4"
    },
    "colab": {
      "provenance": [],
      "gpuType": "T4",
      "include_colab_link": true
    },
    "accelerator": "GPU"
  },
  "nbformat": 4,
  "nbformat_minor": 5
}